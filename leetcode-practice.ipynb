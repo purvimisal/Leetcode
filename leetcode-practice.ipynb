{
 "cells": [
  {
   "cell_type": "code",
   "execution_count": null,
   "metadata": {},
   "outputs": [],
   "source": [
    "arr = [2,7,11,15]\n",
    "\n",
    "target = 9\n",
    "\n",
    "def twoSum(nums, target):\n",
    "        for i in range(len(nums)):\n",
    "            for j in range(len(nums)):\n",
    "                if(i != j):\n",
    "                    if(nums[i] + nums[j] == target):\n",
    "                        return [i,j]\n",
    "        return []\n",
    "                    \n",
    "                    \n",
    "\n",
    "                    \n",
    "print(twoSum(arr, target))"
   ]
  },
  {
   "cell_type": "code",
   "execution_count": null,
   "metadata": {},
   "outputs": [],
   "source": [
    "def fizzBuzz(n):\n",
    "    res = []\n",
    "    for i in range(n+1):\n",
    "        if(i):\n",
    "            if(i%3 == 0 and i%5 == 0):\n",
    "                res.append(\"FizzBuzz\")\n",
    "            elif(i%3 == 0):\n",
    "                res.append('fizz')\n",
    "            elif(i%5 == 0):\n",
    "                res.append('buzz')\n",
    "            else:\n",
    "                res.append(str(i))\n",
    "    return res\n",
    "                \n",
    "\n",
    "                \n",
    "print(fizzBuzz(15))\n",
    "            "
   ]
  },
  {
   "cell_type": "code",
   "execution_count": null,
   "metadata": {},
   "outputs": [],
   "source": [
    "class Solution:\n",
    "    def fizzBuzz(n):\n",
    "        res = []\n",
    "        for i in range(n+1):\n",
    "            if(i):\n",
    "                if(i%3 == 0 and i%5 == 0):\n",
    "                    res.append(\"FizzBuzz\")\n",
    "                elif(i%3 == 0):\n",
    "                    res.append(\"fizz\")\n",
    "                elif(i%5 == 0):\n",
    "                    res.append(\"buzz\")\n",
    "                else:\n",
    "                    res.append(str(i))\n",
    "        return res"
   ]
  },
  {
   "cell_type": "code",
   "execution_count": null,
   "metadata": {},
   "outputs": [],
   "source": [
    "def firstUniqChar(s):\n",
    "    split = list(s)\n",
    "    rep = {}\n",
    "    for i in split:\n",
    "        if i in rep:\n",
    "            rep[i] = rep[i]+1 \n",
    "        else:\n",
    "            rep[i] = 1\n",
    "    for i in rep:\n",
    "        if(rep[i] == 1):\n",
    "            return split.index(i)\n",
    "    return -1\n",
    "\n",
    "s = \"loveleetcode\"\n",
    "firstUniqChar(s)\n",
    "        "
   ]
  },
  {
   "cell_type": "code",
   "execution_count": null,
   "metadata": {},
   "outputs": [],
   "source": [
    "def isPowerOfThree(n):\n",
    "        a = n\n",
    "        if(a!= 0):\n",
    "            if(a%3 == 0):\n",
    "                a = a/3\n",
    "            else:\n",
    "                print('false')\n",
    "                if(a%3 == 0):   \n",
    "                    a = a/3\n",
    "                    if(a%3 == 0):\n",
    "                        print('true')\n",
    "            else:\n",
    "                print('false')\n",
    "        \n",
    "isPowerOfThree(27)"
   ]
  },
  {
   "cell_type": "code",
   "execution_count": null,
   "metadata": {},
   "outputs": [],
   "source": [
    "def isPowerOfThree(n: int):\n",
    "    if(n!=0):\n",
    "        a = n\n",
    "        if(a%3 == 0):\n",
    "            a = a/3\n",
    "            if(a%3 == 0):   \n",
    "                a = a/3\n",
    "                if(a%3 == 0):\n",
    "                    return 'true'\n",
    "                else:\n",
    "                    return 'false'\n",
    "            else:\n",
    "                return 'false'\n",
    "        else:\n",
    "            return 'false'\n",
    "    else:\n",
    "        return 'false'\n",
    "    \n",
    "        \n",
    "        \n",
    "print(isPowerOfThree(0))"
   ]
  },
  {
   "cell_type": "code",
   "execution_count": null,
   "metadata": {},
   "outputs": [],
   "source": [
    "def isPowerOfThree(n: int):\n",
    "    print(n)\n",
    "    if(n == 0):\n",
    "        print('n:',n)\n",
    "        return 'false'\n",
    "    else:\n",
    "        if(n%3 == 0):\n",
    "            n = n/3\n",
    "            print(n)\n",
    "            if(n%3 == 0 and n/3 !=1):\n",
    "                n = n/3\n",
    "                if(n%3 == 0):\n",
    "                    return 'true'\n",
    "                else:\n",
    "                    return 'false'\n",
    "            else:\n",
    "                return 'false'\n",
    "        else:\n",
    "            return 'false'\n",
    "\n",
    "\n",
    "n = 9\n",
    "print(isPowerOfThree(n))"
   ]
  },
  {
   "cell_type": "code",
   "execution_count": null,
   "metadata": {},
   "outputs": [],
   "source": [
    "def reverse(x):\n",
    "    li = list(str(x))\n",
    "    li.reverse()\n",
    "    s = ''.join(li)\n",
    "        \n",
    "    print(s)\n",
    "    \n",
    "\n",
    "reverse(-3251)"
   ]
  },
  {
   "cell_type": "code",
   "execution_count": null,
   "metadata": {},
   "outputs": [],
   "source": [
    "s = 'abcedf'\n",
    "print(s.index('f'))"
   ]
  },
  {
   "cell_type": "code",
   "execution_count": null,
   "metadata": {},
   "outputs": [],
   "source": [
    "m = [[1, 2, 3], [4, 5, 6], [7, 8, 9]] \n",
    "\n",
    "\n",
    "\n",
    "col1 = [row[1] for row in m if row[1]%5 == 0]\n",
    "print(col1)\n",
    "\n",
    "\n",
    "diag = [m[i][i] for i in [0,1,2]]\n",
    "print(diag)"
   ]
  },
  {
   "cell_type": "code",
   "execution_count": null,
   "metadata": {},
   "outputs": [],
   "source": [
    "a = 'fdfd'\n",
    "\n",
    "d = [j*3 for j in a]\n",
    "print(d)\n",
    "\n",
    "g"
   ]
  },
  {
   "cell_type": "code",
   "execution_count": null,
   "metadata": {},
   "outputs": [],
   "source": [
    "m = [[1, 2, 3], [4, 5, 6], [7, 8, 9]] \n",
    "g = {sum(row) for row in m}\n",
    "print(list(map(sum,m)))\n",
    "\n",
    "\n",
    "s = {i: sum(m[i]) for i in range(3)}\n",
    "print(s)\n",
    "\n",
    "d = {x: ord(x) for x in 'spaaaanf'}\n",
    "print(d)"
   ]
  },
  {
   "cell_type": "code",
   "execution_count": null,
   "metadata": {},
   "outputs": [],
   "source": [
    "D = {'b': 1, 'a': 2, 'c': 3} \n",
    "\n",
    "ks = list(D.keys())\n",
    "ks.sort()\n",
    "\n",
    "\n",
    "k = set(D.keys())\n",
    "l = set('spaaam')\n",
    "\n",
    "print(l)\n",
    "for i in sorted(D):\n",
    "    print(i, '=>', D[i])"
   ]
  },
  {
   "cell_type": "code",
   "execution_count": null,
   "metadata": {},
   "outputs": [],
   "source": [
    "def reverse(x: int):\n",
    "    neg = -0x80000000\n",
    "    pos = 0x7fffffff\n",
    "    signed = 0\n",
    "    li = list(str(x))\n",
    "    k = [i for i in li if i != '-']\n",
    "    k.reverse()\n",
    "    if(li[0]== '-'):\n",
    "        k.insert(0,'-')\n",
    "        signed = 1\n",
    "    s = ''.join(k)\n",
    "    res = int(s)\n",
    "    if(signed):\n",
    "        x = res&neg\n",
    "        if(x == neg):\n",
    "            return res\n",
    "        else:\n",
    "            return 0\n",
    "    else:\n",
    "        x = res&pos\n",
    "        if(x == res):\n",
    "            return res\n",
    "        else:\n",
    "            return 0"
   ]
  },
  {
   "cell_type": "code",
   "execution_count": null,
   "metadata": {},
   "outputs": [],
   "source": [
    "\n",
    "\n",
    "print(reverse(120))"
   ]
  },
  {
   "cell_type": "code",
   "execution_count": null,
   "metadata": {},
   "outputs": [],
   "source": [
    "def isPalindrome(x: int):\n",
    "    n = x\n",
    "    l = len(str(x))\n",
    "    k = 0\n",
    "    while(l):\n",
    "        r = x%10\n",
    "        k = (k*10) +r \n",
    "        l = l-1\n",
    "        x = x//10 \n",
    "    diff = k - n\n",
    "    print(diff)\n",
    "    if(diff == 0):\n",
    "        print('true')\n",
    "    else:\n",
    "        print(0)\n",
    "        \n",
    "    \n"
   ]
  },
  {
   "cell_type": "code",
   "execution_count": null,
   "metadata": {},
   "outputs": [],
   "source": [
    "isPalindrome(121)"
   ]
  },
  {
   "cell_type": "code",
   "execution_count": null,
   "metadata": {},
   "outputs": [],
   "source": [
    "print(3//1)"
   ]
  },
  {
   "cell_type": "code",
   "execution_count": null,
   "metadata": {},
   "outputs": [],
   "source": [
    "def longestCommonPrefix(strs):\n",
    "    l = len(strs)\n",
    "    prefix = {}\n",
    "    for i in strs:\n",
    "        for j in i:\n",
    "            if j in prefix:\n",
    "                prefix[j] +=1\n",
    "            else:\n",
    "                prefix[j] = 1\n",
    "    \n",
    "    s = []\n",
    "    for i in prefix:\n",
    "        if(prefix[i] == l):\n",
    "            s.append(i)\n",
    "    s = ''.join(s)\n",
    "    if s in strs[0]:\n",
    "        print(s)\n",
    "    else:\n",
    "        print(34)\n",
    "    \n",
    "    "
   ]
  },
  {
   "cell_type": "code",
   "execution_count": null,
   "metadata": {},
   "outputs": [],
   "source": [
    "s = [\"flower\",\"flow\",\"flight\"]\n",
    "print(longestCommonPrefix(s))"
   ]
  },
  {
   "cell_type": "code",
   "execution_count": null,
   "metadata": {},
   "outputs": [],
   "source": [
    "def longestCommonPrefix(self, strs: List[str]) -> str:\n",
    "        l = len(strs)\n",
    "        prefix = {}\n",
    "        for i in strs:\n",
    "            for j in i:\n",
    "                if j in prefix:\n",
    "                    prefix[j] +=1\n",
    "                else:\n",
    "                    prefix[j] = 1\n",
    "\n",
    "        s = []\n",
    "        for i in prefix:\n",
    "            if(prefix[i] == l):\n",
    "                s.append(i)\n",
    "        s= ''.join(s)\n",
    "        love = 0\n",
    "        for k in range(l):\n",
    "            if s in strs[k]:\n",
    "                love+=1\n",
    "        if(love == 3):\n",
    "            return s\n",
    "        else:\n",
    "            return ''"
   ]
  },
  {
   "cell_type": "code",
   "execution_count": null,
   "metadata": {},
   "outputs": [],
   "source": [
    "def isValid(s: str):\n",
    "    l = list(s)\n",
    "    le = len(l)\n",
    "    st = [0]\n",
    "    prev = 0\n",
    "    for i in l:\n",
    "        if(prev == '('):\n",
    "            counterpart = ')'\n",
    "        elif(prev == '['):\n",
    "            counterpart = ']'\n",
    "        elif(prev == '{'):\n",
    "            counterpart = '}'\n",
    "        else:\n",
    "            counterpart = 0\n",
    "        if(i == counterpart):\n",
    "            st.pop()\n",
    "        else:\n",
    "            st.append(i)        \n",
    "        prev = st[-1]\n",
    "        print(st)\n",
    "    \n",
    "    if(len(st) == 1 or len(st)%2 != 0):\n",
    "        return True\n",
    "    else: \n",
    "        return False\n",
    "        \n",
    "\n",
    "    \n",
    "s = \"{{\"\n",
    "print(isValid(s))"
   ]
  },
  {
   "cell_type": "code",
   "execution_count": null,
   "metadata": {},
   "outputs": [],
   "source": []
  },
  {
   "cell_type": "code",
   "execution_count": null,
   "metadata": {},
   "outputs": [],
   "source": []
  },
  {
   "cell_type": "code",
   "execution_count": null,
   "metadata": {},
   "outputs": [],
   "source": [
    "a = [6]\n",
    "print(a[-1])"
   ]
  },
  {
   "cell_type": "code",
   "execution_count": null,
   "metadata": {},
   "outputs": [],
   "source": [
    "st.append(0)"
   ]
  },
  {
   "cell_type": "code",
   "execution_count": null,
   "metadata": {},
   "outputs": [],
   "source": []
  },
  {
   "cell_type": "code",
   "execution_count": null,
   "metadata": {},
   "outputs": [],
   "source": []
  },
  {
   "cell_type": "code",
   "execution_count": null,
   "metadata": {},
   "outputs": [],
   "source": []
  },
  {
   "cell_type": "code",
   "execution_count": null,
   "metadata": {},
   "outputs": [],
   "source": []
  },
  {
   "cell_type": "code",
   "execution_count": null,
   "metadata": {},
   "outputs": [],
   "source": [
    "def isValid(s: str):\n",
    "    l = list(s)\n",
    "    le = len(l)\n",
    "    st = None\n",
    "    prev = 0\n",
    "    for i in l:\n",
    "        if(prev == '('):\n",
    "            counterpart = ')'\n",
    "        elif(prev == '['):\n",
    "            counterpart = ']'\n",
    "        elif(prev == '{'):\n",
    "            counterpart = '}'\n",
    "        else:\n",
    "            counterpart = 0\n",
    "        if(i == counterpart):\n",
    "            st.pop()\n",
    "        else:\n",
    "            if(st is None):\n",
    "                st = [i]  \n",
    "            else:\n",
    "                st.append(i)\n",
    "        prev = st[-1]\n",
    "        print(st)\n",
    "    if((len(st) == 1 or len(st)%2 != 0) and st[-1] == st[-2] ):\n",
    "        return True\n",
    "    else: \n",
    "        return False\n",
    "        \n",
    "\n",
    "    \n",
    "s = \"[{}\"\n",
    "print(isValid(s))"
   ]
  },
  {
   "cell_type": "code",
   "execution_count": null,
   "metadata": {},
   "outputs": [],
   "source": [
    "def removeDuplicates(nums):\n",
    "    li = set(nums)\n",
    "    li = sorted(list(li))\n",
    "    nums[:] = li\n",
    "    return len(li)\n",
    "\n",
    "a = [-1,0,0,0,0,3,3]\n",
    "removeDuplicates(a)\n",
    "print(a)"
   ]
  },
  {
   "cell_type": "code",
   "execution_count": null,
   "metadata": {},
   "outputs": [],
   "source": [
    "def removeElement(nums, val):\n",
    "    n = [i for i in nums if i != val]\n",
    "    nums[:] = n\n",
    "    return len(nums)\n",
    "    \n",
    "\n",
    "n = [3,2,2,3]\n",
    "v = 3\n",
    "print(removeElement(n, v))\n",
    "print(n)"
   ]
  },
  {
   "cell_type": "code",
   "execution_count": null,
   "metadata": {},
   "outputs": [],
   "source": [
    "Given a list of numbers and a number k, return whether any two numbers from the list add up to k.\n",
    "\n",
    "For example, given [10, 15, 3, 7] and k of 17, return true since 10 + 7 is 17.\n",
    "\n",
    "Bonus: Can you do this in one pass?"
   ]
  },
  {
   "cell_type": "code",
   "execution_count": null,
   "metadata": {},
   "outputs": [],
   "source": [
    "def addNums(nums, val):\n",
    "    dic = {}\n",
    "    for i in range(len(nums)):\n",
    "        diff = target - nums[i]\n",
    "        if diff in dic and dic[diff] != i:\n",
    "            print(dic)\n",
    "            return True\n",
    "        else:\n",
    "            dic[nums[i]] = i\n",
    "    return False\n",
    "l = [10, 15, 3, 7]\n",
    "v = 17\n",
    "addNums(l, v)"
   ]
  },
  {
   "cell_type": "code",
   "execution_count": 162,
   "metadata": {},
   "outputs": [
    {
     "data": {
      "text/plain": [
       "True"
      ]
     },
     "execution_count": 162,
     "metadata": {},
     "output_type": "execute_result"
    }
   ],
   "source": [
    "def CheckSum(nums, val):\n",
    "    diff =[val-i for i in nums]\n",
    "    if(len(set(diff)&set(nums)) == 2):\n",
    "        return True\n",
    "    else:\n",
    "        return False\n",
    "\n",
    "l = [10, 45, 15, 3, 7]\n",
    "v = 52\n",
    "CheckSum(l, v)"
   ]
  },
  {
   "cell_type": "code",
   "execution_count": null,
   "metadata": {},
   "outputs": [],
   "source": []
  },
  {
   "cell_type": "code",
   "execution_count": 161,
   "metadata": {},
   "outputs": [
    {
     "data": {
      "text/plain": [
       "True"
      ]
     },
     "execution_count": 161,
     "metadata": {},
     "output_type": "execute_result"
    }
   ],
   "source": [
    "def CheckSum(A, target):\n",
    "    B = [target-x for x in A]\n",
    "    Bset = set(B)\n",
    "    if(len(set(A)& Bset) > 0):\n",
    "        return True\n",
    "    else:\n",
    "        return False\n",
    "\n",
    "l = [10, 45, 15, 3, 7]\n",
    "v = 52\n",
    "CheckSum(l, v)"
   ]
  },
  {
   "cell_type": "code",
   "execution_count": 201,
   "metadata": {},
   "outputs": [
    {
     "name": "stdout",
     "output_type": "stream",
     "text": [
      "False\n"
     ]
    }
   ],
   "source": [
    "def PalindromeCheck(s):\n",
    "    if(len(s)%2==0):\n",
    "        if(list(s[0:int(len(s)/2)])==list(reversed(s[-int(len(s)/2):]))):\n",
    "            return True\n",
    "        else:\n",
    "            return False\n",
    "    else:\n",
    "        if(list(s[0:int((len(s)+1)/2)])==list(reversed(s[-int((len(s)+1)/2):]))):\n",
    "            return True\n",
    "        else:\n",
    "            return False\n",
    "\n",
    "        \n",
    "print(PalindromeCheck('banana'))"
   ]
  },
  {
   "cell_type": "code",
   "execution_count": 222,
   "metadata": {},
   "outputs": [
    {
     "name": "stdout",
     "output_type": "stream",
     "text": [
      "['i', 'l', 'l', 'i', 'o', 'n']\n"
     ]
    }
   ],
   "source": [
    "def PalindromeCheck(s):\n",
    "    if(len(s)%2==0):\n",
    "        if(list(s[0:int(len(s)/2)])==list(reversed(s[-int(len(s)/2):]))):\n",
    "            return True\n",
    "        else:\n",
    "            return False\n",
    "    else:\n",
    "        if(list(s[0:int((len(s)+1)/2)])==list(reversed(s[-int((len(s)+1)/2):]))):\n",
    "            return True\n",
    "        else:\n",
    "            return False\n",
    "\n",
    "\n",
    "def longestPalindrome(s):\n",
    "    s = list(s)\n",
    "    l = len(s)\n",
    "    while(1):\n",
    "        if(s[0]!= s[l-1]):\n",
    "            del s[0]\n",
    "            if(PalindromeCheck(str(s))==True):\n",
    "                return str(s)\n",
    "            else:\n",
    "                break\n",
    "        else:\n",
    "            return 'bingo'\n",
    "    print(s)\n",
    "\n",
    "longestPalindrome('million')"
   ]
  },
  {
   "cell_type": "code",
   "execution_count": null,
   "metadata": {},
   "outputs": [],
   "source": []
  },
  {
   "cell_type": "code",
   "execution_count": null,
   "metadata": {},
   "outputs": [],
   "source": [
    "Given an array of integers, return a new array such that each element at index i of the new array is \n",
    "the product of all the numbers in the original array except the one at i.\n",
    "\n",
    "For example, if our input was [1, 2, 3, 4, 5], the expected output would be \n",
    "[120, 60, 40, 30, 24]. If our input was [3, 2, 1], the expected output would be [2, 3, 6]."
   ]
  },
  {
   "cell_type": "code",
   "execution_count": 243,
   "metadata": {},
   "outputs": [
    {
     "name": "stdout",
     "output_type": "stream",
     "text": [
      "[2, 3, 6]\n"
     ]
    }
   ],
   "source": [
    "def prodFunc(arr):\n",
    "    x = []\n",
    "    for j in arr:\n",
    "        prod = 1\n",
    "        k = j\n",
    "        for i in arr:\n",
    "            if(i!=k):\n",
    "                prod*=i\n",
    "        x.append(prod)\n",
    "    return x\n",
    "\n",
    "a = [3,2,1]\n",
    "print(prodFunc(a))"
   ]
  },
  {
   "cell_type": "code",
   "execution_count": 250,
   "metadata": {},
   "outputs": [
    {
     "name": "stdout",
     "output_type": "stream",
     "text": [
      "livinthegoodlife ivinthegoodlife vinthegoodlife inthegoodlife nthegoodlife thegoodlife hegoodlife egoodlife goodlife oodlife odlife dlife life ife fe e "
     ]
    }
   ],
   "source": [
    "x = 'livinthegoodlife'\n",
    "while x:\n",
    "    print(x, sep = '*', end=' ')\n",
    "    x = x[1:]\n",
    "    "
   ]
  },
  {
   "cell_type": "code",
   "execution_count": 255,
   "metadata": {},
   "outputs": [
    {
     "name": "stdout",
     "output_type": "stream",
     "text": [
      "a YOOO 1  YYY  b YOOO 2  YYY  c YOOO 3  YYY  "
     ]
    }
   ],
   "source": [
    "D = {'a': 1, 'b': 2, 'c': 3} \n",
    "for i,j in D.items():\n",
    "    print(i,'YOOO',j, end='  YYY  ')"
   ]
  },
  {
   "cell_type": "code",
   "execution_count": 264,
   "metadata": {},
   "outputs": [
    {
     "name": "stdout",
     "output_type": "stream",
     "text": [
      "(1, 2)\n",
      "1 YOYOY 2 ============= \n",
      "(3, 4)\n",
      "3 YOYOY 4 ============= \n",
      "(5, 6)\n",
      "5 YOYOY 6 ============= \n"
     ]
    }
   ],
   "source": [
    "T = [(1, 2), (3, 4), (5, 6)]\n",
    "for both in T:\n",
    "    print(both)\n",
    "    print(both[0],both[1], sep=' YOYOY ', end=' ============= \\n')"
   ]
  },
  {
   "cell_type": "code",
   "execution_count": 271,
   "metadata": {},
   "outputs": [
    {
     "name": "stdout",
     "output_type": "stream",
     "text": [
      "1 2 [4, 5, 6, 3, 'y', 4]\n",
      "5 6 [44, 5, 'spamspam', 7, 8]\n"
     ]
    }
   ],
   "source": [
    "for (a, b, *c) in [(1, 2,4,5,6, 3,'y', 4), (5, 6,44,5,'spamspam', 7, 8)]: \n",
    "    print(a,b,c)"
   ]
  },
  {
   "cell_type": "code",
   "execution_count": null,
   "metadata": {},
   "outputs": [],
   "source": []
  }
 ],
 "metadata": {
  "kernelspec": {
   "display_name": "Python 3",
   "language": "python",
   "name": "python3"
  },
  "language_info": {
   "codemirror_mode": {
    "name": "ipython",
    "version": 3
   },
   "file_extension": ".py",
   "mimetype": "text/x-python",
   "name": "python",
   "nbconvert_exporter": "python",
   "pygments_lexer": "ipython3",
   "version": "3.7.3"
  }
 },
 "nbformat": 4,
 "nbformat_minor": 2
}
